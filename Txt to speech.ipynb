{
 "cells": [
  {
   "cell_type": "markdown",
   "metadata": {},
   "source": [
    "# Text To Speech with Python"
   ]
  },
  {
   "cell_type": "code",
   "execution_count": null,
   "metadata": {},
   "outputs": [],
   "source": [
    "#import libraries\n",
    "from newspaper import Article     ## Newspaper library use for extracting & curating articles.\n",
    "import nltk                       ## Natural language Toolkit(nltk) use for used for building Python programs that work with human language data.\n",
    "from gtts import gTTS             ## gtts lib tool to interface with Google Translate's text-to-speech API\n",
    "import os                         ## os lib provides functions for interacting with the operating system"
   ]
  },
  {
   "cell_type": "code",
   "execution_count": null,
   "metadata": {},
   "outputs": [],
   "source": [
    "#get the article\n",
    "\n",
    "print(\"Paste here link of your Article:\")\n",
    "article = Article(input())\n",
    "\n",
    "### You can also use this article link:: \"https://hackernoon.com/future-of-python-language-bright-or-dull-uv41u3xwx\""
   ]
  },
  {
   "cell_type": "code",
   "execution_count": null,
   "metadata": {},
   "outputs": [],
   "source": [
    "article.download()\n",
    "article.parse()                ## 'parse()': splits your given sequence of characters or values (text) into smaller parts."
   ]
  },
  {
   "cell_type": "code",
   "execution_count": null,
   "metadata": {},
   "outputs": [],
   "source": [
    "nltk.download('punkt')         ##'punkt': This tokenizer divides a text into a list of sentences.\n",
    "article.nlp()                  ##'nlp()': natural processing lib"
   ]
  },
  {
   "cell_type": "code",
   "execution_count": null,
   "metadata": {},
   "outputs": [],
   "source": [
    "#get the article text\n",
    "mytext = article.text           ## making a variable to store our texted article.\n",
    "language = 'en'"
   ]
  },
  {
   "cell_type": "code",
   "execution_count": null,
   "metadata": {},
   "outputs": [],
   "source": [
    "## make object of your texted article\n",
    "myobj = gTTS(text=mytext, lang=language, slow=False)"
   ]
  },
  {
   "cell_type": "code",
   "execution_count": null,
   "metadata": {},
   "outputs": [],
   "source": [
    "# running text to speech program \n",
    "print(\"Please! Wait...\")\n",
    "myobj.save(\"read_article.mp3\")\n",
    "os.system(\"start read_article.mp3\")"
   ]
  },
  {
   "cell_type": "code",
   "execution_count": null,
   "metadata": {},
   "outputs": [],
   "source": []
  }
 ],
 "metadata": {
  "kernelspec": {
   "display_name": "Python 3",
   "language": "python",
   "name": "python3"
  },
  "language_info": {
   "codemirror_mode": {
    "name": "ipython",
    "version": 3
   },
   "file_extension": ".py",
   "mimetype": "text/x-python",
   "name": "python",
   "nbconvert_exporter": "python",
   "pygments_lexer": "ipython3",
   "version": "3.7.6"
  }
 },
 "nbformat": 4,
 "nbformat_minor": 4
}
